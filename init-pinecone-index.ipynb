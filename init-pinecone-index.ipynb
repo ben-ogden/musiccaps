{
  "nbformat": 4,
  "nbformat_minor": 0,
  "metadata": {
    "colab": {
      "provenance": [],
      "authorship_tag": "ABX9TyP9/PLgtJHw2fbCfwTRHuKb",
      "include_colab_link": true
    },
    "kernelspec": {
      "name": "python3",
      "display_name": "Python 3"
    },
    "language_info": {
      "name": "python"
    }
  },
  "cells": [
    {
      "cell_type": "markdown",
      "metadata": {
        "id": "view-in-github",
        "colab_type": "text"
      },
      "source": [
        "<a href=\"https://colab.research.google.com/github/ben-ogden/musiccaps/blob/main/init-pinecone-index.ipynb\" target=\"_parent\"><img src=\"https://colab.research.google.com/assets/colab-badge.svg\" alt=\"Open In Colab\"/></a>"
      ]
    },
    {
      "cell_type": "markdown",
      "source": [
        "## Install dependencies"
      ],
      "metadata": {
        "id": "PhPt6qx0lwGu"
      }
    },
    {
      "cell_type": "code",
      "execution_count": null,
      "metadata": {
        "id": "JLfNz9NJll1E"
      },
      "outputs": [],
      "source": [
        "!pip install sentence_transformers pinecone-client datasets"
      ]
    },
    {
      "cell_type": "markdown",
      "source": [
        "## Load dataset"
      ],
      "metadata": {
        "id": "ptKuh1TCmdhY"
      }
    },
    {
      "cell_type": "code",
      "source": [
        "from datasets import load_dataset\n",
        "\n",
        "# load the dataset and convert to pandas dataframe\n",
        "df = load_dataset(\n",
        "    'google/MusicCaps', data_files='musiccaps-public.csv', split='train'\n",
        ").to_pandas()\n"
      ],
      "metadata": {
        "id": "_3PHbbB5l0Zg"
      },
      "execution_count": null,
      "outputs": []
    },
    {
      "cell_type": "code",
      "source": [
        "\n",
        "df"
      ],
      "metadata": {
        "id": "HrzIQkHAmrFL"
      },
      "execution_count": null,
      "outputs": []
    },
    {
      "cell_type": "markdown",
      "source": [
        "## Initialize NER Model"
      ],
      "metadata": {
        "id": "if-dunCcoh5b"
      }
    },
    {
      "cell_type": "code",
      "source": [
        "import torch\n",
        "\n",
        "# set device to GPU if available\n",
        "device = torch.cuda.current_device() if torch.cuda.is_available() else None"
      ],
      "metadata": {
        "id": "ZAC9Emx1nufG"
      },
      "execution_count": null,
      "outputs": []
    },
    {
      "cell_type": "code",
      "source": [
        "from transformers import AutoTokenizer, AutoModelForTokenClassification\n",
        "from transformers import pipeline\n",
        "\n",
        "model_id = 'dslim/bert-base-NER'\n",
        "\n",
        "# load the tokenizer from huggingface\n",
        "tokenizer = AutoTokenizer.from_pretrained(\n",
        "    model_id\n",
        ")\n",
        "# load the NER model from huggingface\n",
        "model = AutoModelForTokenClassification.from_pretrained(\n",
        "    model_id\n",
        ")\n",
        "# load the tokenizer and model into a NER pipeline\n",
        "nlp = pipeline(\n",
        "    'ner',\n",
        "    model=model,\n",
        "    tokenizer=tokenizer,\n",
        "    aggregation_strategy='max',\n",
        "    device=device\n",
        ")"
      ],
      "metadata": {
        "id": "iUGPMC5golpi"
      },
      "execution_count": null,
      "outputs": []
    },
    {
      "cell_type": "markdown",
      "source": [
        "Verify the NER Pipeline extraction is good to go."
      ],
      "metadata": {
        "id": "H0RqPFVBpEfy"
      }
    },
    {
      "cell_type": "code",
      "source": [
        "text = 'The song is a classic Rock and Roll and the narration is a Documentary'\n",
        "# use the NER pipeline to extract named entities from the text\n",
        "nlp(text)"
      ],
      "metadata": {
        "id": "909sxpMWpO85"
      },
      "execution_count": null,
      "outputs": []
    },
    {
      "cell_type": "markdown",
      "source": [
        "## Initialize Retriever"
      ],
      "metadata": {
        "id": "7R3KWjT_no3b"
      }
    },
    {
      "cell_type": "code",
      "source": [
        "from sentence_transformers import SentenceTransformer\n",
        "\n",
        "# load the model from huggingface\n",
        "retriever = SentenceTransformer(\n",
        "    'flax-sentence-embeddings/all_datasets_v3_mpnet-base',\n",
        "    device=device\n",
        ")\n",
        "retriever"
      ],
      "metadata": {
        "id": "W660YWuyn6B_"
      },
      "execution_count": null,
      "outputs": []
    },
    {
      "cell_type": "markdown",
      "source": [
        "## Prepare to connect to Pinecone"
      ],
      "metadata": {
        "id": "LrJJQhzSqYFP"
      }
    },
    {
      "cell_type": "code",
      "source": [
        "import pinecone\n",
        "\n",
        "# connect to pinecone environment\n",
        "pinecone.init(\n",
        "    api_key='YOUR_API_KEY',\n",
        "    environment='YOUR_REGION'\n", 
        ")"
      ],
      "metadata": {
        "id": "Io2vNLQhqDrH"
      },
      "execution_count": 64,
      "outputs": []
    },
    {
      "cell_type": "markdown",
      "source": [
        "## Create Pinecone Index"
      ],
      "metadata": {
        "id": "IDTEl081roU4"
      }
    },
    {
      "cell_type": "code",
      "source": [
        "index_name = 'music-caps-index'\n",
        "\n",
        "# check if the ner-search index exists\n",
        "if index_name not in pinecone.list_indexes():\n",
        "    # create the index if it does not exist\n",
        "    pinecone.create_index(\n",
        "        index_name,\n",
        "        dimension=768,\n",
        "        metric='cosine'\n",
        "    )\n",
        "\n",
        "# connect to ner-search index we created\n",
        "index = pinecone.Index(index_name)"
      ],
      "metadata": {
        "id": "mNBONL4mrqHc"
      },
      "execution_count": 65,
      "outputs": []
    },
    {
      "cell_type": "markdown",
      "source": [
        "## Generate Embeddings and populate index"
      ],
      "metadata": {
        "id": "TjcJBt_ystLw"
      }
    },
    {
      "cell_type": "code",
      "source": [
        "def extract_named_entities(text_batch):\n",
        "    # extract named entities using the NER pipeline\n",
        "    extracted_batch = nlp(text_batch)\n",
        "    entities = []\n",
        "    # loop through the results and only select the entity names\n",
        "    for text in extracted_batch:\n",
        "        ne = [entity['word'] for entity in text]\n",
        "        entities.append(ne)\n",
        "    return entities"
      ],
      "metadata": {
        "id": "VGn1F5IkstZz"
      },
      "execution_count": 66,
      "outputs": []
    },
    {
      "cell_type": "code",
      "source": [
        "from tqdm.auto import tqdm\n",
        "\n",
        "# we will use batches of 128\n",
        "batch_size = 128\n",
        "\n",
        "for i in tqdm(range(0, len(df), batch_size)):\n",
        "    # find end of batch\n",
        "    i_end = min(i+batch_size, len(df))\n",
        "    # extract batch\n",
        "    batch = df.iloc[i:i_end]\n",
        "    # generate embeddings for batch\n",
        "    emb = retriever.encode(batch['caption'].tolist()).tolist()\n",
        "    # get metadata\n",
        "    meta = batch.to_dict(orient='records')\n",
        "    # create unique IDs\n",
        "    ids = [f\"{idx}\" for idx in range(i, i_end)]\n",
        "    # add all to upsert list\n",
        "    to_upsert = list(zip(ids, emb, meta))\n",
        "    # upsert/insert these records to pinecone\n",
        "    _ = index.upsert(vectors=to_upsert)\n",
        " \n",
        "# check that we have all vectors in index\n",
        "index.describe_index_stats()"
      ],
      "metadata": {
        "id": "KCgT7T3dtP2i"
      },
      "execution_count": null,
      "outputs": []
    },
    {
      "cell_type": "markdown",
      "source": [
        "## Query the Index"
      ],
      "metadata": {
        "id": "abNQqiUR9T7h"
      }
    },
    {
      "cell_type": "code",
      "source": [
        "from pprint import pprint\n",
        "\n",
        "def search_pinecone(query):\n",
        "    # create embeddings for the query\n",
        "    xq = retriever.encode(query).tolist()\n",
        "    # query the pinecone index\n",
        "    xc = index.query(xq, top_k=10, include_metadata=True)\n",
        "    return xc"
      ],
      "metadata": {
        "id": "sTbF8mhM9W4E"
      },
      "execution_count": 76,
      "outputs": []
    },
    {
      "cell_type": "code",
      "source": [
        "query = 'happy balkan music'\n",
        "search_pinecone(query)"
      ],
      "metadata": {
        "colab": {
          "base_uri": "https://localhost:8080/"
        },
        "id": "P1I7eEBb90xV",
        "outputId": "070154aa-5924-4a17-9887-4662aaafe376"
      },
      "execution_count": 78,
      "outputs": [
        {
          "output_type": "execute_result",
          "data": {
            "text/plain": [
              "{'matches': [{'id': '2192',\n",
              "              'metadata': {'aspect_list': \"['balkan music', 'instrumental', \"\n",
              "                                          \"'virtual sounds', 'accordion', \"\n",
              "                                          \"'bass guitar', 'acoustic sounding \"\n",
              "                                          \"drums', 'cheerful', 'upbeat', 'folk \"\n",
              "                                          \"dance']\",\n",
              "                           'audioset_positive_labels': '/m/0mkg',\n",
              "                           'author_id': 9.0,\n",
              "                           'caption': 'This is a folk music piece from the '\n",
              "                                      'Balkans. It is an instrumental piece '\n",
              "                                      'performed with virtual sounds. The '\n",
              "                                      'leading tune is played by a realistic '\n",
              "                                      'accordion sound. There is an upbeat '\n",
              "                                      'bass guitar following the rhythm of a '\n",
              "                                      'fast tempo acoustic sounding drum beat. '\n",
              "                                      'The atmosphere is cheerful. This piece '\n",
              "                                      'could be the perfect accompaniment '\n",
              "                                      'piece for a Balkan folk dancing course. '\n",
              "                                      'It could also fit well in the '\n",
              "                                      'soundtrack of a comedy movie that takes '\n",
              "                                      'place in the Balkan region.',\n",
              "                           'end_s': 190.0,\n",
              "                           'is_audioset_eval': False,\n",
              "                           'is_balanced_subset': False,\n",
              "                           'start_s': 180.0,\n",
              "                           'ytid': 'LUtBqNS27AQ'},\n",
              "              'score': 0.706772089,\n",
              "              'values': []},\n",
              "             {'id': '5003',\n",
              "              'metadata': {'aspect_list': \"['albanian pop music', 'male \"\n",
              "                                          \"vocals', 'melodic singing', \"\n",
              "                                          \"'clarinet', 'acoustic guitar', \"\n",
              "                                          \"'electric guitat', 'bass guitar', \"\n",
              "                                          \"'acoustic drums', 'easygoing', \"\n",
              "                                          \"'lively']\",\n",
              "                           'audioset_positive_labels': '/m/015lz1,/m/015y_n,/m/064t9',\n",
              "                           'author_id': 9.0,\n",
              "                           'caption': 'This is an Albanian pop music piece. '\n",
              "                                      'There are male vocals singing '\n",
              "                                      'melodically in the Albanian language. '\n",
              "                                      'The main theme is being played on the '\n",
              "                                      'clarinet while there is a melodic '\n",
              "                                      'backing composed of the acoustic '\n",
              "                                      'guitar, the electric guitar and the '\n",
              "                                      'bass guitar. The rhythm is provided by '\n",
              "                                      'a laid-back acoustic drum beat. The '\n",
              "                                      'atmosphere is lively. This piece could '\n",
              "                                      'be used as an opening theme for an '\n",
              "                                      'Albanian sit-com.',\n",
              "                           'end_s': 80.0,\n",
              "                           'is_audioset_eval': False,\n",
              "                           'is_balanced_subset': False,\n",
              "                           'start_s': 70.0,\n",
              "                           'ytid': 't5fW1-6iXZY'},\n",
              "              'score': 0.638367414,\n",
              "              'values': []},\n",
              "             {'id': '194',\n",
              "              'metadata': {'aspect_list': \"['romanian folk music', 'live \"\n",
              "                                          \"performance', 'instrumental', \"\n",
              "                                          \"'cimbalom', 'contrabass', 'violin', \"\n",
              "                                          \"'accordion', 'vibrant', 'playful', \"\n",
              "                                          \"'cheerful']\",\n",
              "                           'audioset_positive_labels': '/m/085jw,/m/0mkg',\n",
              "                           'author_id': 9.0,\n",
              "                           'caption': 'This is a Romanian folk music piece. It '\n",
              "                                      'is a live performance. In the '\n",
              "                                      'background, there is a contrabass and a '\n",
              "                                      'cimbalom playing. The main melody is '\n",
              "                                      'being played by the violin and the '\n",
              "                                      'accordion. The atmosphere is vibrant '\n",
              "                                      'and cheerful. This piece could be used '\n",
              "                                      'in the soundtrack of a comedy movie '\n",
              "                                      'that takes place in eastern Europe or '\n",
              "                                      'the Balkans, especially during an '\n",
              "                                      'escape scene.',\n",
              "                           'end_s': 440.0,\n",
              "                           'is_audioset_eval': False,\n",
              "                           'is_balanced_subset': False,\n",
              "                           'start_s': 430.0,\n",
              "                           'ytid': '0ewWspUqB6Y'},\n",
              "              'score': 0.611701965,\n",
              "              'values': []},\n",
              "             {'id': '128',\n",
              "              'metadata': {'aspect_list': \"['duet', 'fast tempo', 'upbeat', \"\n",
              "                                          \"'ukrainian song', 'spirited', \"\n",
              "                                          \"'enthusiastic', 'energetic', \"\n",
              "                                          \"'buoyant', 'bright', 'colourful', \"\n",
              "                                          \"'catchy', 'simple melody', \"\n",
              "                                          \"'cheerful', 'high-spirited', 'pop', \"\n",
              "                                          \"'foreign language', 'infectious', \"\n",
              "                                          \"'folk', 'regional music', 'keyboard \"\n",
              "                                          \"harmony', 'groovy bass lines', \"\n",
              "                                          \"'infectious drumming', 'galloping \"\n",
              "                                          \"rhythm', 'rhythmic acoustic \"\n",
              "                                          \"guitar']\",\n",
              "                           'audioset_positive_labels': '/m/03_d0,/m/04rlf,/m/04wptg,/m/06j6l',\n",
              "                           'author_id': 7.0,\n",
              "                           'caption': 'This song is a lively Ukrainian duet. '\n",
              "                                      'The tempo is fast and upbeat with a '\n",
              "                                      'bright keyboard harmony, infectious '\n",
              "                                      'drumming , groovy bass line and '\n",
              "                                      'rhythmic acoustic guitar. The music is '\n",
              "                                      'energetic, enthusiastic, lively, '\n",
              "                                      'high-spirited , cheerful, happy, warm, '\n",
              "                                      'buoyant and catchy with a simple '\n",
              "                                      'melody. This song is a Ukrainian Pop '\n",
              "                                      'song.',\n",
              "                           'end_s': 40.0,\n",
              "                           'is_audioset_eval': False,\n",
              "                           'is_balanced_subset': False,\n",
              "                           'start_s': 30.0,\n",
              "                           'ytid': '0ADP-O_V3vA'},\n",
              "              'score': 0.608653903,\n",
              "              'values': []},\n",
              "             {'id': '3430',\n",
              "              'metadata': {'aspect_list': \"['croatian pop', 'male vocal', \"\n",
              "                                          \"'melodic singing', 'acoustic \"\n",
              "                                          \"guitar', 'bass guitar', 'electronic \"\n",
              "                                          \"drums', 'lively', 'easygoing']\",\n",
              "                           'audioset_positive_labels': '/m/04rlf,/m/0gywn',\n",
              "                           'author_id': 9.0,\n",
              "                           'caption': 'This is a Croatian pop music piece. '\n",
              "                                      'There is a male vocalist singing '\n",
              "                                      'melodically in the lead. The acoustic '\n",
              "                                      'guitar is playing a simple tune with '\n",
              "                                      'the bass guitar playing in the '\n",
              "                                      'background. The rhythm is played by a '\n",
              "                                      'basic electronic drum beat with an '\n",
              "                                      'acoustic sound. There is a lively '\n",
              "                                      'atmosphere to this piece. This piece '\n",
              "                                      'could fit well in the soundtrack of a '\n",
              "                                      'romantic comedy movie that takes place '\n",
              "                                      'in Croatia.',\n",
              "                           'end_s': 180.0,\n",
              "                           'is_audioset_eval': False,\n",
              "                           'is_balanced_subset': False,\n",
              "                           'start_s': 170.0,\n",
              "                           'ytid': 'Zy_YSROQmlE'},\n",
              "              'score': 0.591229677,\n",
              "              'values': []},\n",
              "             {'id': '5014',\n",
              "              'metadata': {'aspect_list': \"['instrumental', 'medium fast \"\n",
              "                                          \"tempo', 'lighthearted', 'accordion \"\n",
              "                                          \"melody', 'accordion solo', \"\n",
              "                                          \"'lively', 'simple', 'fun', \"\n",
              "                                          \"'breezy', 'cheerful', 'chirpy', \"\n",
              "                                          \"'enthusiastic', 'carefree']\",\n",
              "                           'audioset_positive_labels': '/m/0mkg',\n",
              "                           'author_id': 7.0,\n",
              "                           'caption': 'This music is a simple and pleasing '\n",
              "                                      'instrumental. The tempo is medium fast '\n",
              "                                      'with a cheerful accordion harmony. The '\n",
              "                                      'music is minimalist,simple, cheerful, '\n",
              "                                      'happy, fun, carefree, jolly and '\n",
              "                                      'lighthearted.',\n",
              "                           'end_s': 30.0,\n",
              "                           'is_audioset_eval': False,\n",
              "                           'is_balanced_subset': False,\n",
              "                           'start_s': 20.0,\n",
              "                           'ytid': 'tDVOUsG52Jw'},\n",
              "              'score': 0.58460474,\n",
              "              'values': []},\n",
              "             {'id': '5075',\n",
              "              'metadata': {'aspect_list': \"['azerbaijani folk music', \"\n",
              "                                          \"'instrumental', 'single \"\n",
              "                                          \"instrument', 'garmon', 'lively', \"\n",
              "                                          \"'vibrant']\",\n",
              "                           'audioset_positive_labels': '/m/02p0sh1,/m/04rlf,/m/04szw,/m/0mkg',\n",
              "                           'author_id': 9.0,\n",
              "                           'caption': 'This is an Azerbaijani folk music '\n",
              "                                      'piece. It is an instrumental piece. The '\n",
              "                                      'only instrument being played is a '\n",
              "                                      'garmon which has a sound that resembles '\n",
              "                                      'an accordion. There is a lively '\n",
              "                                      'atmosphere in the recording. This piece '\n",
              "                                      'can be played in the soundtrack of a '\n",
              "                                      'documentary that takes place in the '\n",
              "                                      'Caucasus region. It could also be used '\n",
              "                                      'in the soundtrack of an Azerbaijani '\n",
              "                                      'soap opera.',\n",
              "                           'end_s': 210.0,\n",
              "                           'is_audioset_eval': False,\n",
              "                           'is_balanced_subset': False,\n",
              "                           'start_s': 200.0,\n",
              "                           'ytid': 'tv14XEQcY0c'},\n",
              "              'score': 0.560184896,\n",
              "              'values': []},\n",
              "             {'id': '271',\n",
              "              'metadata': {'aspect_list': \"['instrumental', 'fast tempo', \"\n",
              "                                          \"'acordion harmony', 'movie sound \"\n",
              "                                          \"track', 'warm', 'genial', 'happy', \"\n",
              "                                          \"'cheerful', 'sprightly', \"\n",
              "                                          \"'romantic', 'carefree', 'well \"\n",
              "                                          \"layerd harmony', 'upbeat acoustic \"\n",
              "                                          \"guitar', 'violin harmony', \"\n",
              "                                          \"'keyboard accompaniment', 'piano', \"\n",
              "                                          \"'lively', 'fresh', 'harmonica', \"\n",
              "                                          \"'pleasant melody']\",\n",
              "                           'audioset_positive_labels': '/m/04rlf,/t/dd00034',\n",
              "                           'author_id': 7.0,\n",
              "                           'caption': 'This music is a lively instrumental. '\n",
              "                                      'The tempo is fast with an infectious '\n",
              "                                      'accordion harmony, rhythmic acoustic '\n",
              "                                      'guitar, violin harmony and keyboard '\n",
              "                                      'accompaniment. The music is pleasant, '\n",
              "                                      'happy, cheerful, warm, sprightly, '\n",
              "                                      'romantic, carefree, upbeat and genial. '\n",
              "                                      'This music sounds like a movie '\n",
              "                                      'soundtrack.',\n",
              "                           'end_s': 260.0,\n",
              "                           'is_audioset_eval': False,\n",
              "                           'is_balanced_subset': False,\n",
              "                           'start_s': 250.0,\n",
              "                           'ytid': '1RRGInmOhTQ'},\n",
              "              'score': 0.557657599,\n",
              "              'values': []},\n",
              "             {'id': '219',\n",
              "              'metadata': {'aspect_list': \"['instrumental', 'fast tempo', \"\n",
              "                                          \"'tenor sax', 'energetic drumming', \"\n",
              "                                          \"'wind of provence', 'classical \"\n",
              "                                          \"music', 'western classical', \"\n",
              "                                          \"'lively', 'cheerful', 'happy', \"\n",
              "                                          \"'celebratory', 'youthful', \"\n",
              "                                          \"'emphatic solos', 'piano \"\n",
              "                                          \"accompaniment', 'march like drum \"\n",
              "                                          \"beat', 'wind band repertoire', \"\n",
              "                                          \"'lively', 'energetic', \"\n",
              "                                          \"'enthusiastic']\",\n",
              "                           'audioset_positive_labels': '/m/01kcd,/m/06ncr',\n",
              "                           'author_id': 7.0,\n",
              "                           'caption': 'This music is a lively instrumental. '\n",
              "                                      'The tempo is fast with a drum beat '\n",
              "                                      'introduction, saxophone solo, piano '\n",
              "                                      'solo, followed with lively harmony of '\n",
              "                                      'the tenor sax and march like drumming. '\n",
              "                                      'This piece is the song introduction. It '\n",
              "                                      'is a lively, cheerful, happy, '\n",
              "                                      'celebratory and youthful Western '\n",
              "                                      'Classical.',\n",
              "                           'end_s': 260.0,\n",
              "                           'is_audioset_eval': False,\n",
              "                           'is_balanced_subset': False,\n",
              "                           'start_s': 250.0,\n",
              "                           'ytid': '0u4gY1bBUwQ'},\n",
              "              'score': 0.551365376,\n",
              "              'values': []},\n",
              "             {'id': '65',\n",
              "              'metadata': {'aspect_list': \"['arabesque', 'kurdish folk music', \"\n",
              "                                          \"'baglama', 'zurna', 'electronic \"\n",
              "                                          \"drums', 'percussion', 'upbeat', \"\n",
              "                                          \"'lively', 'folk dance', 'halay']\",\n",
              "                           'audioset_positive_labels': '/m/04rlf,/m/0gywn',\n",
              "                           'author_id': 9.0,\n",
              "                           'caption': 'This is a Kurdish folk music piece. The '\n",
              "                                      'main melody is first played by the '\n",
              "                                      'baglama and then by the zurna. The '\n",
              "                                      'rhythmic background consists of an '\n",
              "                                      'electronic drum beat and supportive '\n",
              "                                      'percussive elements. The atmosphere is '\n",
              "                                      'lively. This piece could be used as an '\n",
              "                                      'accompaniment piece for a folk dance '\n",
              "                                      'course such as the halay dance.',\n",
              "                           'end_s': 40.0,\n",
              "                           'is_audioset_eval': False,\n",
              "                           'is_balanced_subset': False,\n",
              "                           'start_s': 30.0,\n",
              "                           'ytid': '-cLzki-B06o'},\n",
              "              'score': 0.543464541,\n",
              "              'values': []}],\n",
              " 'namespace': ''}"
            ]
          },
          "metadata": {},
          "execution_count": 78
        }
      ]
    },
    {
      "cell_type": "markdown",
      "source": [
        "## Clean up"
      ],
      "metadata": {
        "id": "gmnC_32HC_hA"
      }
    },
    {
      "cell_type": "code",
      "source": [
        "pinecone.delete_index('ner-search')"
      ],
      "metadata": {
        "id": "uy7aUbSe-7DS"
      },
      "execution_count": 57,
      "outputs": []
    }
  ]
}
